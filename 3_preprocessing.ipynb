{
 "cells": [
  {
   "cell_type": "markdown",
   "metadata": {},
   "source": [
    "## VITAMIN FOR WOMEN\n",
    "**Pre-processing**"
   ]
  },
  {
   "cell_type": "code",
   "execution_count": null,
   "metadata": {},
   "outputs": [],
   "source": [
    "import pandas as pd\n",
    "import jieba\n",
    "from sklearn.feature_extraction.text import CountVectorizer, TfidfVectorizer"
   ]
  },
  {
   "cell_type": "code",
   "execution_count": null,
   "metadata": {},
   "outputs": [],
   "source": [
    "pd.set_option('display.max_rows', None)\n",
    "\n",
    "xhs = pd.read_csv('../data/clean/xhs_clean_female.csv')\n",
    "tmall = pd.read_csv('../data/clean/tmall_clean.csv')"
   ]
  },
  {
   "cell_type": "code",
   "execution_count": null,
   "metadata": {},
   "outputs": [],
   "source": [
    "xhs.head()"
   ]
  },
  {
   "cell_type": "code",
   "execution_count": null,
   "metadata": {},
   "outputs": [],
   "source": [
    "tmall.head()"
   ]
  },
  {
   "cell_type": "code",
   "execution_count": null,
   "metadata": {
    "scrolled": true
   },
   "outputs": [],
   "source": [
    "top100 = pd.read_csv('../data/clean/top_100_sku.csv')\n",
    "top100"
   ]
  },
  {
   "cell_type": "markdown",
   "metadata": {},
   "source": [
    "### Merge Two Platforms"
   ]
  },
  {
   "cell_type": "code",
   "execution_count": null,
   "metadata": {},
   "outputs": [],
   "source": [
    "combine = pd.concat([xhs['text'], tmall['comment']])\n",
    "\n",
    "df = pd.DataFrame(combine, columns=['text'])\n",
    "\n",
    "df.reset_index(drop=True, inplace=True)"
   ]
  },
  {
   "cell_type": "code",
   "execution_count": null,
   "metadata": {},
   "outputs": [],
   "source": [
    "df.shape"
   ]
  },
  {
   "cell_type": "markdown",
   "metadata": {},
   "source": [
    "### Pre-processing\n",
    "- 自定义stop word\n",
    "- 结巴分词 --(自定义字典)\n",
    "- tfidf\n",
    "- 选取关键词"
   ]
  },
  {
   "cell_type": "markdown",
   "metadata": {},
   "source": [
    "1. 删除停用词"
   ]
  },
  {
   "cell_type": "code",
   "execution_count": null,
   "metadata": {},
   "outputs": [],
   "source": [
    "#  加载停用词列表\n",
    "def load_stopword():\n",
    "    f_stop = open('../asset/stop_words.txt', encoding='utf-8')  # 自己的中文停用词表\n",
    "    sw = [line.strip() for line in f_stop]  # strip() 方法用于移除字符串头尾指定的字符（默认为空格）\n",
    "    f_stop.close()\n",
    "    return sw"
   ]
  },
  {
   "cell_type": "markdown",
   "metadata": {},
   "source": [
    "2. 分词"
   ]
  },
  {
   "cell_type": "code",
   "execution_count": null,
   "metadata": {},
   "outputs": [],
   "source": [
    "def seg_word(sentence):\n",
    "    file_userDict = '../asset/dict.txt'  # 自定义的词典\n",
    "    jieba.load_userdict(file_userDict)\n",
    "\n",
    "    sentence_seged = jieba.cut(sentence.strip())\n",
    "    stopwords = load_stopword()\n",
    "    outstr = ''\n",
    "    for word in sentence_seged:\n",
    "        if word not in stopwords:\n",
    "            if word != '/t':\n",
    "                outstr += word\n",
    "                outstr += \" \"\n",
    "    return outstr"
   ]
  },
  {
   "cell_type": "markdown",
   "metadata": {},
   "source": [
    "### Combined XHS + Tmall"
   ]
  },
  {
   "cell_type": "code",
   "execution_count": null,
   "metadata": {},
   "outputs": [],
   "source": [
    "df['segmented'] = df['text'].apply(seg_word)"
   ]
  },
  {
   "cell_type": "code",
   "execution_count": null,
   "metadata": {},
   "outputs": [],
   "source": [
    "df.head()"
   ]
  },
  {
   "cell_type": "markdown",
   "metadata": {},
   "source": [
    "#### One word"
   ]
  },
  {
   "cell_type": "code",
   "execution_count": null,
   "metadata": {},
   "outputs": [],
   "source": [
    "tvec = TfidfVectorizer(stop_words='english', \n",
    "                      min_df=10,\n",
    "                      max_features=3000)\n",
    "\n",
    "df_tvec = pd.DataFrame(tvec.fit_transform(df['segmented']).toarray(),\n",
    "                                          columns=tvec.get_feature_names())\n",
    "\n",
    "df_tvec.head()"
   ]
  },
  {
   "cell_type": "code",
   "execution_count": null,
   "metadata": {
    "scrolled": true
   },
   "outputs": [],
   "source": [
    "df_tvec.sum().sort_values(ascending=False).head(1000)"
   ]
  },
  {
   "cell_type": "markdown",
   "metadata": {},
   "source": [
    "#### Bigram"
   ]
  },
  {
   "cell_type": "code",
   "execution_count": null,
   "metadata": {},
   "outputs": [],
   "source": [
    "tvec_bigram = TfidfVectorizer(stop_words='english', \n",
    "                      min_df=10,\n",
    "                      max_features=3000,\n",
    "                      ngram_range=(2,2))\n",
    "\n",
    "df_tvec_bigram = pd.DataFrame(tvec_bigram.fit_transform(df['segmented']).toarray(),\n",
    "                                          columns=tvec_bigram.get_feature_names())\n",
    "\n",
    "df_tvec_bigram.head()"
   ]
  },
  {
   "cell_type": "code",
   "execution_count": null,
   "metadata": {
    "scrolled": true
   },
   "outputs": [],
   "source": [
    "df_tvec_bigram.sum().sort_values(ascending=False).head(1000)"
   ]
  },
  {
   "cell_type": "markdown",
   "metadata": {},
   "source": [
    "#### One word & bigram"
   ]
  },
  {
   "cell_type": "code",
   "execution_count": null,
   "metadata": {},
   "outputs": [],
   "source": [
    "tvec_ngram = TfidfVectorizer(stop_words='english', \n",
    "                      min_df=10,\n",
    "                      max_features=5000,\n",
    "                      ngram_range=(1,2))\n",
    "\n",
    "df_tvec_ngram = pd.DataFrame(tvec_ngram.fit_transform(df['segmented']).toarray(),\n",
    "                                          columns=tvec_ngram.get_feature_names())\n",
    "\n",
    "df_tvec_ngram.head()"
   ]
  },
  {
   "cell_type": "code",
   "execution_count": null,
   "metadata": {
    "scrolled": true
   },
   "outputs": [],
   "source": [
    "df_tvec_ngram.sum().sort_values(ascending=False).head(1000)"
   ]
  },
  {
   "cell_type": "markdown",
   "metadata": {},
   "source": [
    "### XHS only"
   ]
  },
  {
   "cell_type": "markdown",
   "metadata": {},
   "source": [
    "#### One word"
   ]
  },
  {
   "cell_type": "code",
   "execution_count": null,
   "metadata": {},
   "outputs": [],
   "source": [
    "xhs_seg = pd.DataFrame(xhs.text, columns=['text'])\n",
    "\n",
    "xhs_seg['segmented'] = xhs_seg['text'].apply(seg_word)\n",
    "\n",
    "tvec = TfidfVectorizer(stop_words='english', \n",
    "                      max_df=0.99,\n",
    "                      min_df=10,\n",
    "                      max_features=3000)\n",
    "\n",
    "xhs_tvec = pd.DataFrame(tvec.fit_transform(xhs_seg['segmented']).toarray(),\n",
    "                                          columns=tvec.get_feature_names())\n",
    "\n",
    "xhs_tvec.head()"
   ]
  },
  {
   "cell_type": "code",
   "execution_count": null,
   "metadata": {
    "scrolled": true
   },
   "outputs": [],
   "source": [
    "# pd.set_option('display.max_rows', None)\n",
    "\n",
    "xhs_tvec.sum().sort_values(ascending=False).head(1000)"
   ]
  },
  {
   "cell_type": "markdown",
   "metadata": {},
   "source": [
    "#### Bigram"
   ]
  },
  {
   "cell_type": "code",
   "execution_count": null,
   "metadata": {},
   "outputs": [],
   "source": [
    "tvec_bigram = TfidfVectorizer(stop_words='english', \n",
    "                      max_df=0.99,\n",
    "                      min_df=10,\n",
    "                      max_features=3000,\n",
    "                      ngram_range=(2,2))\n",
    "\n",
    "xhs_tvec_bigram = pd.DataFrame(tvec_bigram.fit_transform(xhs_seg['segmented']).toarray(),\n",
    "                                          columns=tvec_bigram.get_feature_names())\n",
    "\n",
    "xhs_tvec_bigram.head()"
   ]
  },
  {
   "cell_type": "code",
   "execution_count": null,
   "metadata": {
    "scrolled": true
   },
   "outputs": [],
   "source": [
    "xhs_tvec_bigram.sum().sort_values(ascending=False).head(1000)"
   ]
  },
  {
   "cell_type": "markdown",
   "metadata": {},
   "source": [
    "#### One word & bigram"
   ]
  },
  {
   "cell_type": "code",
   "execution_count": null,
   "metadata": {},
   "outputs": [],
   "source": [
    "tvec_ngram = TfidfVectorizer(stop_words='english', \n",
    "                      max_df=0.99,\n",
    "                      min_df=10,\n",
    "                      max_features=6000,\n",
    "                      ngram_range=(1,2))\n",
    "\n",
    "xhs_tvec_ngram = pd.DataFrame(tvec_ngram.fit_transform(xhs_seg['segmented']).toarray(),\n",
    "                                          columns=tvec_ngram.get_feature_names())\n",
    "\n",
    "xhs_tvec_ngram.head()"
   ]
  },
  {
   "cell_type": "code",
   "execution_count": null,
   "metadata": {
    "scrolled": true
   },
   "outputs": [],
   "source": [
    "xhs_tvec_ngram.sum().sort_values(ascending=False).head(1000)"
   ]
  },
  {
   "cell_type": "markdown",
   "metadata": {},
   "source": [
    "### Tmall only"
   ]
  },
  {
   "cell_type": "markdown",
   "metadata": {},
   "source": [
    "#### One word"
   ]
  },
  {
   "cell_type": "code",
   "execution_count": null,
   "metadata": {},
   "outputs": [],
   "source": [
    "tmall_seg = pd.DataFrame(tmall['comment'], columns=['comment'])\n",
    "\n",
    "tmall_seg['segmented'] = tmall_seg['comment'].apply(seg_word)"
   ]
  },
  {
   "cell_type": "code",
   "execution_count": null,
   "metadata": {},
   "outputs": [],
   "source": [
    "tvec_t = TfidfVectorizer(stop_words='english', \n",
    "                      max_df=0.99,\n",
    "                      min_df=10,\n",
    "                      max_features=3000,\n",
    "                      ngram_range=(1,1))\n",
    "\n",
    "tmall_tvec = pd.DataFrame(tvec_t.fit_transform(tmall_seg['segmented']).toarray(),\n",
    "                                          columns=tvec_t.get_feature_names())\n",
    "\n",
    "tmall_tvec.head()"
   ]
  },
  {
   "cell_type": "code",
   "execution_count": null,
   "metadata": {
    "scrolled": true
   },
   "outputs": [],
   "source": [
    "tmall_tvec.sum().sort_values(ascending=False).head(1000)"
   ]
  },
  {
   "cell_type": "markdown",
   "metadata": {},
   "source": [
    "#### Bigram"
   ]
  },
  {
   "cell_type": "code",
   "execution_count": null,
   "metadata": {},
   "outputs": [],
   "source": [
    "tvec_bigram = TfidfVectorizer(stop_words='english', \n",
    "                      max_df=0.99,\n",
    "                      min_df=10,\n",
    "                      max_features=3000,\n",
    "                      ngram_range=(2,2))\n",
    "\n",
    "tmall_tvec_bigram = pd.DataFrame(tvec_bigram.fit_transform(tmall_seg['segmented']).toarray(),\n",
    "                                          columns=tvec_bigram.get_feature_names())\n",
    "\n",
    "tmall_tvec_bigram.head()"
   ]
  },
  {
   "cell_type": "code",
   "execution_count": null,
   "metadata": {
    "scrolled": true
   },
   "outputs": [],
   "source": [
    "tmall_tvec_bigram.sum().sort_values(ascending=False).head(1000)"
   ]
  },
  {
   "cell_type": "markdown",
   "metadata": {},
   "source": [
    "#### One word & bigram"
   ]
  },
  {
   "cell_type": "code",
   "execution_count": null,
   "metadata": {},
   "outputs": [],
   "source": [
    "tvec_ngram = TfidfVectorizer(stop_words='english', \n",
    "                      max_df=0.99,\n",
    "                      min_df=10,\n",
    "                      max_features=6000,\n",
    "                      ngram_range=(1,2))\n",
    "\n",
    "tmall_tvec_ngram = pd.DataFrame(tvec_ngram.fit_transform(tmall_seg['segmented']).toarray(),\n",
    "                                          columns=tvec_ngram.get_feature_names())\n",
    "\n",
    "tmall_tvec_ngram.head()"
   ]
  },
  {
   "cell_type": "code",
   "execution_count": null,
   "metadata": {},
   "outputs": [],
   "source": [
    "tmall_tvec_ngram.sum().sort_values(ascending=False).head(1000)"
   ]
  }
 ],
 "metadata": {
  "environment": {
   "name": "common-cu100.m65",
   "type": "gcloud",
   "uri": "gcr.io/deeplearning-platform-release/base-cu100:m65"
  },
  "kernelspec": {
   "display_name": "Python 3",
   "language": "python",
   "name": "python3"
  },
  "language_info": {
   "codemirror_mode": {
    "name": "ipython",
    "version": 3
   },
   "file_extension": ".py",
   "mimetype": "text/x-python",
   "name": "python",
   "nbconvert_exporter": "python",
   "pygments_lexer": "ipython3",
   "version": "3.8.3"
  }
 },
 "nbformat": 4,
 "nbformat_minor": 5
}
