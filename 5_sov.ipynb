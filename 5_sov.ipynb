{
 "cells": [
  {
   "cell_type": "code",
   "execution_count": null,
   "metadata": {},
   "outputs": [],
   "source": [
    "import pandas as pd\n",
    "import jieba\n",
    "from snownlp import SnowNLP"
   ]
  },
  {
   "cell_type": "code",
   "execution_count": null,
   "metadata": {},
   "outputs": [],
   "source": [
    "xhs = pd.read_csv('../data/clean/xhs_clean_female.csv')\n",
    "tmall = pd.read_csv('../data/clean/tmall_clean.csv')"
   ]
  },
  {
   "cell_type": "code",
   "execution_count": null,
   "metadata": {},
   "outputs": [],
   "source": [
    "xhs.head()"
   ]
  },
  {
   "cell_type": "code",
   "execution_count": null,
   "metadata": {},
   "outputs": [],
   "source": [
    "tmall.head()"
   ]
  },
  {
   "cell_type": "markdown",
   "metadata": {},
   "source": [
    "### Merge Two Platforms"
   ]
  },
  {
   "cell_type": "code",
   "execution_count": null,
   "metadata": {},
   "outputs": [],
   "source": [
    "combine = pd.concat([xhs['text'], tmall['comment']])\n",
    "\n",
    "df = pd.DataFrame(combine, columns=['text'])\n",
    "\n",
    "df.reset_index(drop=True, inplace=True)"
   ]
  },
  {
   "cell_type": "code",
   "execution_count": null,
   "metadata": {},
   "outputs": [],
   "source": [
    "df.shape"
   ]
  },
  {
   "cell_type": "code",
   "execution_count": null,
   "metadata": {},
   "outputs": [],
   "source": [
    "def topic_angle(keywords, df):\n",
    "    res = []\n",
    "    for cell in df['text']:\n",
    "        for kw in keywords:\n",
    "            if kw in cell:\n",
    "                res.append(1)\n",
    "                break\n",
    "        else:\n",
    "            res.append(0)\n",
    "    return res"
   ]
  },
  {
   "cell_type": "code",
   "execution_count": null,
   "metadata": {},
   "outputs": [],
   "source": [
    "## 应用函数，根据某几列特征的条件，对新特征赋值\n",
    "def label_get(time_length,broad_rate):\n",
    "    if time_length<5:\n",
    "        if broad_rate<=0.51:\n",
    "            return 0\n",
    "        else:\n",
    "            return 1\n",
    "    elif time_length >=5 and time_length <14:\n",
    "        if broad_rate<0.91:\n",
    "            return 0\n",
    "        else:\n",
    "            return 1\n",
    "    else:\n",
    "        return 0\n",
    "df['label']=df.apply(lambda x: label_get(x.time,x.broad),axis=1)\n"
   ]
  },
  {
   "cell_type": "code",
   "execution_count": null,
   "metadata": {},
   "outputs": [],
   "source": [
    "health = ['健康', '营养', '缺乏', '身体', '副作用', #general\n",
    "         '口腔溃疡', '发育', '头发', '脱发', '肠胃', '眼睛', '骨骼', '指甲', '血管', '护眼', '骨骼', '肚子', '大脑', '生长', '肝脏', '牙齿', '牙龈', '生发', '畸形', '伤口愈合' #身体部位\n",
    "         '孕吐', '睡眠', '舒服', '免疫力', '便秘', '感冒', '上火', '新陈代谢', '水肿', '失眠', '入睡', '缺钙', '排毒', '睡不着', '疾病', '不适', '生病', '感冒', '疼痛', '难受', '恶心', '过敏', '出血', '亚健康', #病症相关\n",
    "        '精神', '状态', '疲惫', '疲劳', '能量', '压力', '情绪', '心情', '精力', '元气', '心理'] #心理\n",
    "\n",
    "beauty = ['美容', '颜值', '气色', '脸色',  #general\n",
    "        '抗氧化', '皮肤', '美白', '痘痘', '肌肤', '脸上', '保湿', '长痘', '紧致', '护肤', '皱纹', '暗黄', '滋润', '养颜', '淡斑', '肤色', '变白', '细纹', '衰老', '防晒', '色斑', '光泽', '弹性', '祛斑', '祛痘', '补水', '粗糙', '变美', '暗沉', '毛孔', '黑色素', '自由基'#皮肤\n",
    "         '减肥', '身材', '长胖', '脂肪', '体重', '减脂', '热量'] #体重\n",
    "\n",
    "benefit = health+beauty"
   ]
  },
  {
   "cell_type": "code",
   "execution_count": null,
   "metadata": {},
   "outputs": [],
   "source": [
    "other_ingredients = ['氨基酸', '蛋白粉', '胶原蛋白', '益生菌', '益生菌', '鱼油', '钙', '铁', '乳酸菌', 'omega',\n",
    "                   '不饱和脂肪酸', '矿物质', '辅酶', '蔗糖', 'dha', '胡萝卜素', '酵素', '葡萄籽', '蛋白质', '烟酰胺', \n",
    "                   '微量元素', '蔓越莓', '叶黄素', '褪黑素', '膳食', '纤维', '活性','肉桂提取物']\n",
    "\n",
    "level_of_contents = 含量"
   ]
  },
  {
   "cell_type": "code",
   "execution_count": null,
   "metadata": {},
   "outputs": [],
   "source": [
    "traceability= ['成分', '配方', '来源', '营养素', '补充剂', '抗糖', '草本', '黄金',\n",
    "                    '天然', '添加', '放心', '有机', '自然', '安全', '成分简单', '香精', '防腐剂', '合成', '科技'\n",
    "                    '澳洲', '日本', '美国', '德国', '进口', '中国', '韩国', '英国']"
   ]
  },
  {
   "cell_type": "code",
   "execution_count": null,
   "metadata": {},
   "outputs": [],
   "source": [
    "flavor = ['口味', '味道', '好吃', '口感', '难吃', '好喝',\n",
    "         '酸酸', '甜甜', '酸甜', '糖果',\n",
    "         '水果', '甜橙', '樱桃', '柠檬', '蔓越莓', '橙子', '橘子', '石榴',\n",
    "        '玫瑰', '针叶',\n",
    "        '牛油果',\n",
    "        '无糖',]"
   ]
  },
  {
   "cell_type": "code",
   "execution_count": null,
   "metadata": {},
   "outputs": [],
   "source": [
    "vitamin_format = ['软糖', '胶囊','颗粒', '咀嚼片', '糖果', '泡腾片', '辔腾片', '口服液', '软胶囊',\n",
    "                  '吞服', '吞咽', '口服', '内服', '外用', '外服', '涂抹', '果肉']"
   ]
  },
  {
   "cell_type": "code",
   "execution_count": null,
   "metadata": {},
   "outputs": [],
   "source": [
    "how_to_use = ['每天', '天天', '两天', '多次', \n",
    "              '每天一片', '一天一片', '每天一粒', '每天两粒', '每天一次', '每天一颗', '每天二粒' \n",
    "              '早餐', '晚上', '早上', '随餐', '吃饭', '饭后', '睡前', '睡觉', \n",
    "              '冬天', '夏天']"
   ]
  },
  {
   "cell_type": "code",
   "execution_count": null,
   "metadata": {},
   "outputs": [],
   "source": [
    "package = ['方便', '携带', '包装', '仔细', '严实', '很大', '颜色', '简单', '盖子', '设计', '好看', '药盒', '可爱',\n",
    "           '精美', '麻烦', '包装完好', '外观', '小瓶', '大瓶']"
   ]
  },
  {
   "cell_type": "code",
   "execution_count": null,
   "metadata": {},
   "outputs": [],
   "source": [
    "price = ['价格划算','实惠', '便宜', '活动划算', '优惠', '物美价廉', '赠品', '价格便宜', '不贵', '价格比', \n",
    "        '物超所值', '赠送', '买一送一', '平价', '物有所值', '性价比超高', '价格优惠', '经济实惠', '价格亲民', \n",
    "         '贵', '昂贵']"
   ]
  },
  {
   "cell_type": "code",
   "execution_count": null,
   "metadata": {},
   "outputs": [],
   "source": [
    "life_stages = ['孕期', '孕妈', '怀孕', '孕前', '孕前三个', '怀孕期间', '妊娠', '少女', '准妈妈', \n",
    "               '备孕', '哺乳期', '产后', '孕早期', '宝宝健康', '更年期', '青少年']\n",
    "\n",
    "daily = ['日常补充', '家中常备', '必备', '疫情期间', '换季', '养生', '保养', '保健', '调理', ]\n",
    "\n",
    "people = ['爸妈', '老公', '家人', '宝宝', '新生儿', '孩子', '儿童', '全家', '父母', '老人']\n",
    "\n",
    "occassion = ['公司', '办公室', '上班', '加班', '熬夜', '医生建议', '医院', \n",
    "             '派对', '喝酒', \"油腻\", '姨妈', '学生']"
   ]
  }
 ],
 "metadata": {
  "environment": {
   "name": "common-cu100.m65",
   "type": "gcloud",
   "uri": "gcr.io/deeplearning-platform-release/base-cu100:m65"
  },
  "kernelspec": {
   "display_name": "Python 3",
   "language": "python",
   "name": "python3"
  },
  "language_info": {
   "codemirror_mode": {
    "name": "ipython",
    "version": 3
   },
   "file_extension": ".py",
   "mimetype": "text/x-python",
   "name": "python",
   "nbconvert_exporter": "python",
   "pygments_lexer": "ipython3",
   "version": "3.8.3"
  }
 },
 "nbformat": 4,
 "nbformat_minor": 5
}
